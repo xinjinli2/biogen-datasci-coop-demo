{
  "nbformat": 4,
  "nbformat_minor": 0,
  "metadata": {
    "colab": {
      "provenance": []
    },
    "kernelspec": {
      "name": "python3",
      "display_name": "Python 3"
    },
    "language_info": {
      "name": "python"
    }
  },
  "cells": [
    {
      "cell_type": "code",
      "execution_count": 1,
      "metadata": {
        "id": "THa_lQjB9s0t"
      },
      "outputs": [],
      "source": [
        "import json\n",
        "import gzip\n",
        "import re\n",
        "from collections import Counter\n",
        "from datetime import datetime, timedelta\n",
        "import pytz"
      ]
    },
    {
      "cell_type": "code",
      "source": [
        "from google.colab import drive\n",
        "drive.mount('/content/drive')"
      ],
      "metadata": {
        "colab": {
          "base_uri": "https://localhost:8080/"
        },
        "id": "a5LllZl8-ysx",
        "outputId": "d242b745-7a1e-4387-d542-4d8114a34df8"
      },
      "execution_count": 2,
      "outputs": [
        {
          "output_type": "stream",
          "name": "stdout",
          "text": [
            "Mounted at /content/drive\n"
          ]
        }
      ]
    },
    {
      "cell_type": "code",
      "source": [
        "example_pid = '24450f28-a039-57d8-95c9-d7ba5508ecd4' # this patient has been admitted 3 times\n",
        "# check the Query Encounter block, at the bottom, you can see patient_id + admission times\n",
        "\n",
        "MimicPatient_path = '/content/drive/MyDrive/MIMIC4_FHIR/MimicPatient.ndjson.gz' # patient\n",
        "MimicEncounter_path = '/content/drive/MyDrive/MIMIC4_FHIR/MimicEncounter.ndjson.gz' # admission\n",
        "MimicObservationLabevents_path = '/content/drive/MyDrive/MIMIC4_FHIR/MimicObservationLabevents.ndjson.gz' # lab event\n",
        "MimicCondition_path = '/content/drive/MyDrive/MIMIC4_FHIR/MimicCondition.ndjson.gz' # diagnosis\n",
        "MimicProcedure_path = '/content/drive/MyDrive/MIMIC4_FHIR/MimicProcedure.ndjson.gz' # procedure\n",
        "MimicMedicationAdministration_path = '/content/drive/MyDrive/MIMIC4_FHIR/MimicMedicationAdministration.ndjson.gz' # medication"
      ],
      "metadata": {
        "id": "ZhK44Rlw2ThD"
      },
      "execution_count": 3,
      "outputs": []
    },
    {
      "cell_type": "markdown",
      "source": [
        "## Query Patient Information (example code from PhysioNet)"
      ],
      "metadata": {
        "id": "BN4nEWTgl8_S"
      }
    },
    {
      "cell_type": "code",
      "source": [
        "def extract_demographics(patient): # Example code from physioNet\n",
        "    demographics = {\n",
        "        'id': patient['id'],\n",
        "        'gender': patient.get('gender'),\n",
        "        'birth_date': patient.get('birthDate'),\n",
        "        'marital_status': None,\n",
        "        'race': None,\n",
        "        'ethnicity': None\n",
        "    }\n",
        "    # Extract marital status\n",
        "    marital = patient.get('maritalStatus', {}).get('coding', [])\n",
        "    if marital:\n",
        "        demographics['marital_status'] = marital[0].get('display') or marital[0].get('code')\n",
        "\n",
        "    # Extract race and ethnicity from extensions\n",
        "    for ext in patient.get('extension', []):\n",
        "        url = ext.get('url', '')\n",
        "        if 'race' in url:\n",
        "            for race_ext in ext.get('extension', []):\n",
        "                if race_ext.get('url') == 'text':\n",
        "                    demographics['race'] = race_ext.get('valueString')\n",
        "        elif 'ethnicity' in url:\n",
        "            for eth_ext in ext.get('extension', []):\n",
        "                if eth_ext.get('url') == 'text':\n",
        "                    demographics['ethnicity'] = eth_ext.get('valueString')\n",
        "    return demographics\n",
        "\n",
        "def load_mimic_patient(patient_file):\n",
        "    \"\"\"Extract demographics from all patients\"\"\"\n",
        "    data = []\n",
        "\n",
        "    with gzip.open(patient_file, 'rt') as f:\n",
        "        for line in f:\n",
        "            patient = json.loads(line.strip())\n",
        "            if patient:\n",
        "                demographics = extract_demographics(patient)\n",
        "                data.append(demographics)\n",
        "\n",
        "    return data\n",
        "\n",
        "patient_file = MimicPatient_path\n",
        "patients = load_mimic_patient(patient_file)\n",
        "print(f\"Loaded {len(patients)} patients\")"
      ],
      "metadata": {
        "colab": {
          "base_uri": "https://localhost:8080/"
        },
        "id": "2RktNimP_744",
        "outputId": "cbd4b472-7964-468c-873b-364ceb40efba"
      },
      "execution_count": 4,
      "outputs": [
        {
          "output_type": "stream",
          "name": "stdout",
          "text": [
            "Loaded 100 patients\n"
          ]
        }
      ]
    },
    {
      "cell_type": "code",
      "source": [
        "next((p for p in patients if p[\"id\"] == example_pid), None)"
      ],
      "metadata": {
        "colab": {
          "base_uri": "https://localhost:8080/"
        },
        "id": "SiWxjEY42N-P",
        "outputId": "e55e4d2c-b8b9-4118-eea4-4c0b62782c86"
      },
      "execution_count": 5,
      "outputs": [
        {
          "output_type": "execute_result",
          "data": {
            "text/plain": [
              "{'id': '24450f28-a039-57d8-95c9-d7ba5508ecd4',\n",
              " 'gender': 'female',\n",
              " 'birth_date': '2119-12-30',\n",
              " 'marital_status': 'D',\n",
              " 'race': 'White',\n",
              " 'ethnicity': 'Not Hispanic or Latino'}"
            ]
          },
          "metadata": {},
          "execution_count": 5
        }
      ]
    },
    {
      "cell_type": "markdown",
      "source": [
        "## Query Encounter\n",
        "* FHIR table: MimicEncounter.ndjson.gz\n",
        "* MIMIC4 Demo table: admissions\n",
        "\n",
        "#### Columns:\n",
        "1. subject_id: Encounter.subject\n",
        "2. hadm_id: Encounter.id + Encounter.identifier.value\n",
        "3. admittime: Encounter.period.start\n",
        "4. dischtime: Encounter.period.end\n",
        "5. admission_type: Encounter.priority + Encounter.class\n",
        "    * explanation: [class](https://terminology.hl7.org/6.5.0/ValueSet-encounter-class.html) - classification of patient encounter context\n",
        "      * IMP: inpatient encounter\n",
        "      * AMB: ambulatory\n",
        "      * OBSENC: observation encounter\n",
        "      * EMER: emergency\n",
        "      * VR: virtual\n",
        "      * HH: home health\n",
        "    * priority: A code or set of codes (e.g., for routine, emergency,) specifying the urgency under which the Act happened, can happen, is happening, is intended to happen, or is requested/demanded to happen.\n",
        "      * I find it hard to understand how emergent they are based on their name, feel free to check the webpage linked [here](https://terminology.hl7.org/6.5.0/ValueSet-v3-ActPriority.html)."
      ],
      "metadata": {
        "id": "jWrt3DPvzSqq"
      }
    },
    {
      "cell_type": "code",
      "source": [
        "def extract_encounter(encounter):\n",
        "    encounter_info = {\n",
        "        'hadm_id': encounter.get('id'),\n",
        "        'hadm_identifier': None,\n",
        "        'subject_id': encounter.get('subject', {}).get('reference', '').replace('Patient/', ''),\n",
        "        'admittime': None,\n",
        "        'dischtime': None,\n",
        "        #'admittime': encounter.get('period', {}).get('start'),\n",
        "        # 'dischtime': encounter.get('period', {}).get('end'),\n",
        "\n",
        "        'class': encounter.get('class', {}).get('code'),\n",
        "        'priority': encounter.get('priority', {}).get('coding', [{}])[0].get('code')\n",
        "    }\n",
        "\n",
        "    # extract identifier value (alternative hadm_id)\n",
        "    identifiers = encounter.get('identifier', [])\n",
        "    if identifiers:\n",
        "        encounter_info['hadm_identifier'] = identifiers[0].get('value')\n",
        "\n",
        "    eastern = pytz.timezone('US/Eastern')\n",
        "\n",
        "    admittime_str = encounter.get('period', {}).get('start')\n",
        "    if admittime_str:\n",
        "        dt = datetime.fromisoformat(admittime_str)\n",
        "        encounter_info['admittime'] = dt.astimezone(eastern).strftime('%Y-%m-%d %H:%M:%S') # this time change from UTC is not necessary\n",
        "    # because MIMIC4 still perserves the original order of data, I converted them back to EST for easier readability\n",
        "\n",
        "    dischtime_str = encounter.get('period', {}).get('end')\n",
        "    if dischtime_str:\n",
        "        dt = datetime.fromisoformat(dischtime_str)\n",
        "        encounter_info['dischtime'] = dt.astimezone(eastern).strftime('%Y-%m-%d %H:%M:%S')\n",
        "\n",
        "    return encounter_info\n",
        "\n",
        "def load_mimic_encounters(encounter_file):\n",
        "    \"\"\"Extract encounter info from all records\"\"\"\n",
        "    data = []\n",
        "    with gzip.open(encounter_file, 'rt') as f:\n",
        "        for line in f:\n",
        "            if line.strip():\n",
        "                encounter = json.loads(line.strip())\n",
        "                if encounter:\n",
        "                    encounter_info = extract_encounter(encounter)\n",
        "                    data.append(encounter_info)\n",
        "    return data\n",
        "\n",
        "# Usage\n",
        "encounter_file = MimicEncounter_path\n",
        "encounters = load_mimic_encounters(encounter_file)\n",
        "print(f\"Loaded {len(encounters)} encounter records\")"
      ],
      "metadata": {
        "colab": {
          "base_uri": "https://localhost:8080/"
        },
        "id": "1DbARLvixtlu",
        "outputId": "bb9ab0a5-279e-4008-939b-bce61c557cfc"
      },
      "execution_count": 6,
      "outputs": [
        {
          "output_type": "stream",
          "name": "stdout",
          "text": [
            "Loaded 275 encounter records\n"
          ]
        }
      ]
    },
    {
      "cell_type": "code",
      "source": [
        "# example: Get all encounters for a patient (example_pid)\n",
        "patient_encounters = [e for e in encounters if e[\"subject_id\"] == example_pid]\n",
        "print(f\"\\nFound {len(patient_encounters)} encounters for patient {example_pid}\")\n",
        "\n",
        "for enc in patient_encounters:\n",
        "    print(enc)"
      ],
      "metadata": {
        "colab": {
          "base_uri": "https://localhost:8080/"
        },
        "id": "Lc1B-1721IgK",
        "outputId": "7c96d7cb-37d7-4fb7-9235-880a4beb1fc7"
      },
      "execution_count": 7,
      "outputs": [
        {
          "output_type": "stream",
          "name": "stdout",
          "text": [
            "\n",
            "Found 3 encounters for patient 24450f28-a039-57d8-95c9-d7ba5508ecd4\n",
            "{'hadm_id': '0a83714b-0c0e-5761-b9ea-3ff6d5fd5c8b', 'hadm_identifier': '22196214', 'subject_id': '24450f28-a039-57d8-95c9-d7ba5508ecd4', 'admittime': '2148-03-07 23:30:00', 'dischtime': '2148-03-13 14:50:00', 'class': 'OBSENC', 'priority': 'R'}\n",
            "{'hadm_id': '0071a339-74cd-596a-9083-771d41d6d118', 'hadm_identifier': '22429197', 'subject_id': '24450f28-a039-57d8-95c9-d7ba5508ecd4', 'admittime': '2147-12-30 08:40:00', 'dischtime': '2148-01-11 17:55:00', 'class': 'EMER', 'priority': 'EM'}\n",
            "{'hadm_id': '7e8c1a0f-0a7b-5b91-a351-0a10939deace', 'hadm_identifier': '22950920', 'subject_id': '24450f28-a039-57d8-95c9-d7ba5508ecd4', 'admittime': '2148-01-25 22:58:00', 'dischtime': '2148-01-30 11:23:00', 'class': 'OBSENC', 'priority': 'R'}\n"
          ]
        }
      ]
    },
    {
      "cell_type": "code",
      "source": [
        "# getting a list of patient_id with their admission times\n",
        "admission_counts = Counter(e['subject_id'] for e in encounters)\n",
        "patient_admissions = admission_counts.most_common()\n",
        "\n",
        "print(f\"Total unique patients: {len(patient_admissions)}\")\n",
        "print(f\"\\nTop 20 patients by admission count:\")\n",
        "for patient_id, count in patient_admissions[:20]:\n",
        "    print(f\"Patient {patient_id}: {count} admissions\")\n",
        "\n",
        "patient_admission_list = [\n",
        "    {'subject_id': patient_id, 'admission_count': count}\n",
        "    for patient_id, count in patient_admissions\n",
        "]"
      ],
      "metadata": {
        "colab": {
          "base_uri": "https://localhost:8080/"
        },
        "id": "AeT1L7zIFDLK",
        "outputId": "5d8ac609-9f53-4c2f-ce47-83808d301dc6"
      },
      "execution_count": 8,
      "outputs": [
        {
          "output_type": "stream",
          "name": "stdout",
          "text": [
            "Total unique patients: 100\n",
            "\n",
            "Top 20 patients by admission count:\n",
            "Patient cb70e6ae-90b1-562b-8ab0-467c65d18d5e: 20 admissions\n",
            "Patient 1cf9e585-806c-513b-80af-4ca565a28231: 13 admissions\n",
            "Patient a5d4cb17-db8d-574b-bd88-71473088fd9a: 12 admissions\n",
            "Patient 8e77dd0b-932d-5790-9ba6-5c6df8434457: 10 admissions\n",
            "Patient adde1635-3110-5e92-b9f0-7a6d845a1784: 10 admissions\n",
            "Patient fa5fbf9c-23e3-5ef3-9cfb-24d20a950314: 10 admissions\n",
            "Patient 4f773083-7f4d-5378-b839-c24ca1e15434: 9 admissions\n",
            "Patient 91f25704-6153-5259-bdd7-2ca6478de14a: 8 admissions\n",
            "Patient 0c2243d2-987b-5cbd-8eb1-170a80647693: 7 admissions\n",
            "Patient 77e10fd0-6a1c-5547-a130-fae1341acf36: 7 admissions\n",
            "Patient 9c3ebb7e-d087-519e-bea4-31c3d4aac7ff: 7 admissions\n",
            "Patient e1de99bc-3bc5-565e-9ee6-69675b9cc267: 7 admissions\n",
            "Patient 4365e125-c049-525a-9459-16d5e6947ad2: 6 admissions\n",
            "Patient b410dd44-7d65-56f9-974f-2751e8aa80e2: 6 admissions\n",
            "Patient f77a5b72-65fd-5b20-8cef-6b6be4791265: 6 admissions\n",
            "Patient 28dcf33b-0c52-587f-83ad-2a3270976719: 5 admissions\n",
            "Patient 8adbf3e4-47ff-561e-b1b6-746ee32e056d: 5 admissions\n",
            "Patient 0a8eebfd-a352-522e-89f0-1d4a13abdebc: 4 admissions\n",
            "Patient dd2bf984-33c3-5874-8f68-84113327877e: 4 admissions\n",
            "Patient 24450f28-a039-57d8-95c9-d7ba5508ecd4: 3 admissions\n"
          ]
        }
      ]
    },
    {
      "cell_type": "markdown",
      "source": [
        "## Query ObservationLabevents   \n",
        "* FHIR table: MimicObservationLabevents      \n",
        "* MIMIC4 demo table: labevents + d_labitems\n",
        "\n",
        "#### Columns\n",
        "1. labevent_id:\n",
        "2. subject_id: Observation.subject\n",
        "3. hadm_id: Observation.encounter\n",
        "4. value: Observation.valueString (Only used if MIMIC-IV valuenum is NULL)\n",
        "5. valuenum: Observation.valueQuantity.value\n",
        "6. valueuom: Observation.valueQuantity.unit\n",
        "7. ref_range_lower: Observation.referenceRange.low.value\n",
        "8. ref_range_upper: Observation.referenceRange.high.value\n",
        "9. flag: Observation.interpretation\n",
        "10. itemid: Observation.code.coding.code\n",
        "11. label: Observation.code.coding.display\n",
        "\n",
        "* Claude gave me more columns than I needed so I kept them anyway :)"
      ],
      "metadata": {
        "id": "n5PosMtWBjRE"
      }
    },
    {
      "cell_type": "code",
      "source": [
        "def extract_labevent(observation):\n",
        "    labevent_info = {\n",
        "        'labevent_id': observation.get('id'),\n",
        "        'subject_id': observation.get('subject', {}).get('reference', '').replace('Patient/', ''),\n",
        "        'hadm_id': observation.get('encounter', {}).get('reference', '').replace('Encounter/', ''),\n",
        "        'specimen_id': observation.get('specimen', {}).get('reference', '').replace('Specimen/', ''),\n",
        "        'itemid': None,\n",
        "        'label': None,\n",
        "        # 'charttime': observation.get('effectiveDateTime'),\n",
        "        # 'storetime': observation.get('issued'),\n",
        "        'charttime': None,\n",
        "        'storetime': None,\n",
        "\n",
        "        'valuenum': None,\n",
        "        'valueuom': None,\n",
        "        'ref_range_lower': None,\n",
        "        'ref_range_upper': None,\n",
        "        'flag': None,\n",
        "        'comments': None\n",
        "    }\n",
        "\n",
        "    coding = observation.get('code', {}).get('coding', []) # lab test code and label\n",
        "    if coding:\n",
        "        labevent_info['itemid'] = coding[0].get('code')\n",
        "        labevent_info['label'] = coding[0].get('display')\n",
        "\n",
        "    value_quantity = observation.get('valueQuantity', {}) # value, (prioritize valueQuantity, fallback to valueString)\n",
        "    if value_quantity.get('value') is not None:\n",
        "        labevent_info['valuenum'] = value_quantity.get('value')\n",
        "        labevent_info['valueuom'] = value_quantity.get('unit')\n",
        "    else:\n",
        "\n",
        "        labevent_info['valuenum'] = observation.get('valueString') # only use valueString if valueQuantity is NULL by doc\n",
        "\n",
        "    ref_range = observation.get('referenceRange', [])\n",
        "    if ref_range:\n",
        "        labevent_info['ref_range_lower'] = ref_range[0].get('low', {}).get('value')\n",
        "        labevent_info['ref_range_upper'] = ref_range[0].get('high', {}).get('value')\n",
        "\n",
        "    interpretation = observation.get('interpretation', [])\n",
        "    if interpretation:\n",
        "        interp_coding = interpretation[0].get('coding', [])\n",
        "        if interp_coding:\n",
        "            labevent_info['flag'] = interp_coding[0].get('code')\n",
        "\n",
        "    notes = observation.get('note', [])\n",
        "    if notes:\n",
        "        labevent_info['comments'] = notes[0].get('text')\n",
        "\n",
        "    eastern = pytz.timezone('US/Eastern')\n",
        "\n",
        "    charttime_str = observation.get('effectiveDateTime')\n",
        "    if charttime_str:\n",
        "        dt = datetime.fromisoformat(charttime_str)\n",
        "        labevent_info['charttime'] = dt.astimezone(eastern).strftime('%Y-%m-%d %H:%M:%S')\n",
        "\n",
        "    storetime_str = observation.get('issued')\n",
        "    if storetime_str:\n",
        "        dt = datetime.fromisoformat(storetime_str)\n",
        "        labevent_info['storetime'] = dt.astimezone(eastern).strftime('%Y-%m-%d %H:%M:%S')\n",
        "\n",
        "    return labevent_info\n",
        "\n",
        "def load_mimic_labevents(labevent_file):\n",
        "    \"\"\"Extract lab event info from all records\"\"\"\n",
        "    data = []\n",
        "    with gzip.open(labevent_file, 'rt') as f:\n",
        "        for line in f:\n",
        "            if line.strip():\n",
        "                observation = json.loads(line.strip())\n",
        "                if observation:\n",
        "                    labevent_info = extract_labevent(observation)\n",
        "                    data.append(labevent_info)\n",
        "    return data\n",
        "\n",
        "# Usage\n",
        "labevent_file = \"/content/drive/MyDrive/MIMIC4_FHIR/MimicObservationLabevents.ndjson.gz\"\n",
        "labevents = load_mimic_labevents(labevent_file)\n",
        "print(f\"Loaded {len(labevents)} lab event records\")"
      ],
      "metadata": {
        "colab": {
          "base_uri": "https://localhost:8080/"
        },
        "id": "Gvv8L8INC3ey",
        "outputId": "8ffc9700-ae6c-4740-a4ed-9cc49018bd65"
      },
      "execution_count": 9,
      "outputs": [
        {
          "output_type": "stream",
          "name": "stdout",
          "text": [
            "Loaded 107727 lab event records\n"
          ]
        }
      ]
    },
    {
      "cell_type": "code",
      "source": [
        "patient_labs = [l for l in labevents if l[\"subject_id\"] == example_pid]\n",
        "print(f\"\\nFound {len(patient_labs)} lab events for patient {example_pid}\")\n",
        "print(\"\\nFirst 5 lab events:\")\n",
        "for lab in patient_labs[:5]:\n",
        "    print(lab)"
      ],
      "metadata": {
        "colab": {
          "base_uri": "https://localhost:8080/"
        },
        "id": "VUJWknokDKd3",
        "outputId": "6b007ed5-ed6d-4833-d5f7-8ae8d6bb856f"
      },
      "execution_count": 10,
      "outputs": [
        {
          "output_type": "stream",
          "name": "stdout",
          "text": [
            "\n",
            "Found 693 lab events for patient 24450f28-a039-57d8-95c9-d7ba5508ecd4\n",
            "\n",
            "First 5 lab events:\n",
            "{'labevent_id': 'd92402f8-b53c-51c6-8944-7a6fb42718e3', 'subject_id': '24450f28-a039-57d8-95c9-d7ba5508ecd4', 'hadm_id': '0071a339-74cd-596a-9083-771d41d6d118', 'specimen_id': '62bb5547-c22f-52b3-9433-7ffc4bfc2b7a', 'itemid': '51466', 'label': 'Blood', 'charttime': '2148-01-10 03:00:00', 'storetime': '2148-01-10 04:36:00', 'valuenum': 'SM .', 'valueuom': None, 'ref_range_lower': None, 'ref_range_upper': None, 'flag': None, 'comments': 'SM .'}\n",
            "{'labevent_id': '77662479-2c29-5b48-8161-3f7fcbcb091a', 'subject_id': '24450f28-a039-57d8-95c9-d7ba5508ecd4', 'hadm_id': '0071a339-74cd-596a-9083-771d41d6d118', 'specimen_id': '62bb5547-c22f-52b3-9433-7ffc4bfc2b7a', 'itemid': '51478', 'label': 'Glucose', 'charttime': '2148-01-10 03:00:00', 'storetime': '2148-01-10 04:36:00', 'valuenum': 'NEG.', 'valueuom': None, 'ref_range_lower': None, 'ref_range_upper': None, 'flag': None, 'comments': 'NEG.'}\n",
            "{'labevent_id': '577228f4-409b-5dcc-84ad-de4a57c6e1ea', 'subject_id': '24450f28-a039-57d8-95c9-d7ba5508ecd4', 'hadm_id': '0071a339-74cd-596a-9083-771d41d6d118', 'specimen_id': '62bb5547-c22f-52b3-9433-7ffc4bfc2b7a', 'itemid': '51492', 'label': 'Protein', 'charttime': '2148-01-10 03:00:00', 'storetime': '2148-01-10 04:36:00', 'valuenum': 30, 'valueuom': 'mg/dL', 'ref_range_lower': None, 'ref_range_upper': None, 'flag': None, 'comments': None}\n",
            "{'labevent_id': 'c2ba1af2-49cf-5741-98e5-4766082720a0', 'subject_id': '24450f28-a039-57d8-95c9-d7ba5508ecd4', 'hadm_id': '0071a339-74cd-596a-9083-771d41d6d118', 'specimen_id': '62bb5547-c22f-52b3-9433-7ffc4bfc2b7a', 'itemid': '51484', 'label': 'Ketone', 'charttime': '2148-01-10 03:00:00', 'storetime': '2148-01-10 04:36:00', 'valuenum': 'NEG.', 'valueuom': None, 'ref_range_lower': None, 'ref_range_upper': None, 'flag': None, 'comments': 'NEG.'}\n",
            "{'labevent_id': '0c2dd63d-fce7-516b-ab43-7fc2d0234d8b', 'subject_id': '24450f28-a039-57d8-95c9-d7ba5508ecd4', 'hadm_id': '', 'specimen_id': '1e2a0d2a-9c3b-5912-99b7-37802b64d288', 'itemid': '50947', 'label': 'I', 'charttime': '2148-04-09 11:00:00', 'storetime': '2148-04-09 19:16:00', 'valuenum': 0, 'valueuom': None, 'ref_range_lower': None, 'ref_range_upper': None, 'flag': None, 'comments': None}\n"
          ]
        }
      ]
    },
    {
      "cell_type": "markdown",
      "source": [
        "## Query Procedure\n",
        "* FHIR table: MimicProcedure.ndjson.gz\n",
        "* MIMIC4 Demo table: procedures_icd + d_icd_procedures\n",
        "\n",
        "#### Columns\n",
        "1. subject_id: Procedure.subject\n",
        "2. hadm_id: Procedure.encounter\n",
        "3. chartdate: Procedure.performedDateTime\n",
        "4. icd_code: Procedure.code.coding.code\n",
        "5. icd_version: Procedure.code.coding.system (may not include this)\n",
        "6. long_title: Procedure.code.coding.display"
      ],
      "metadata": {
        "id": "7gedH2sS75NO"
      }
    },
    {
      "cell_type": "code",
      "source": [
        "def extract_procedure(procedure):\n",
        "    procedure_info = {\n",
        "        'procedure_id': procedure.get('id'),\n",
        "        'subject_id': procedure.get('subject', {}).get('reference', '').replace('Patient/', ''),\n",
        "        'hadm_id': procedure.get('encounter', {}).get('reference', '').replace('Encounter/', ''),\n",
        "        # 'chartdate': procedure.get('performedDateTime'),\n",
        "        'chartdate': None,\n",
        "        'icd_code': None,\n",
        "        'long_title': None\n",
        "    }\n",
        "\n",
        "    # Extract ICD code and description\n",
        "    coding = procedure.get('code', {}).get('coding', [])\n",
        "    if coding:\n",
        "        procedure_info['icd_code'] = coding[0].get('code')\n",
        "        procedure_info['long_title'] = coding[0].get('display')\n",
        "\n",
        "    eastern = pytz.timezone('US/Eastern')\n",
        "\n",
        "    chartdate_str = procedure.get('performedDateTime')\n",
        "    if chartdate_str:\n",
        "        dt = datetime.fromisoformat(chartdate_str)\n",
        "        procedure_info['chartdate'] = dt.astimezone(eastern).strftime('%Y-%m-%d %H:%M:%S')\n",
        "\n",
        "    return procedure_info\n",
        "\n",
        "def load_mimic_procedures(procedure_file):\n",
        "    \"\"\"Extract procedure info from all records\"\"\"\n",
        "    data = []\n",
        "    with gzip.open(procedure_file, 'rt') as f:\n",
        "        for line in f:\n",
        "            if line.strip():\n",
        "                procedure = json.loads(line.strip())\n",
        "                if procedure:\n",
        "                    procedure_info = extract_procedure(procedure)\n",
        "                    data.append(procedure_info)\n",
        "    return data\n",
        "\n",
        "# Usage\n",
        "procedure_file = MimicProcedure_path\n",
        "procedures = load_mimic_procedures(procedure_file)\n",
        "print(f\"Loaded {len(procedures)} procedure records\")"
      ],
      "metadata": {
        "colab": {
          "base_uri": "https://localhost:8080/"
        },
        "id": "Oa1kck6V5s_0",
        "outputId": "8dbc5870-9a8b-4ceb-dfdf-f8e02afb34fc"
      },
      "execution_count": 11,
      "outputs": [
        {
          "output_type": "stream",
          "name": "stdout",
          "text": [
            "Loaded 722 procedure records\n"
          ]
        }
      ]
    },
    {
      "cell_type": "code",
      "source": [
        "# get all procedures for a patient\n",
        "patient_id = \"a87c1099-8c87-5548-8fc0-56972a82cebf\"\n",
        "patient_procedures = [p for p in procedures if p[\"subject_id\"] == patient_id]\n",
        "print(f\"\\nFound {len(patient_procedures)} procedures for patient {patient_id}\")\n",
        "print(\"\\nFirst 5 procedure records:\")\n",
        "for proc in patient_procedures:\n",
        "    print(proc)"
      ],
      "metadata": {
        "colab": {
          "base_uri": "https://localhost:8080/"
        },
        "id": "Qo6CdW0W92of",
        "outputId": "353b3d73-0500-4fe4-d1bc-dcaef7fb7bbd"
      },
      "execution_count": 12,
      "outputs": [
        {
          "output_type": "stream",
          "name": "stdout",
          "text": [
            "\n",
            "Found 5 procedures for patient a87c1099-8c87-5548-8fc0-56972a82cebf\n",
            "\n",
            "First 5 procedure records:\n",
            "{'procedure_id': '65969217-dd0b-55de-b586-991aa6205642', 'subject_id': 'a87c1099-8c87-5548-8fc0-56972a82cebf', 'hadm_id': 'ac3f7b4a-3199-5277-907e-d2b1b411a818', 'chartdate': '2131-02-27 00:00:00', 'icd_code': '9604', 'long_title': 'Insertion of endotracheal tube'}\n",
            "{'procedure_id': '112e076a-6c25-54c4-abe3-77240d566940', 'subject_id': 'a87c1099-8c87-5548-8fc0-56972a82cebf', 'hadm_id': 'ac3f7b4a-3199-5277-907e-d2b1b411a818', 'chartdate': '2131-02-27 00:00:00', 'icd_code': '3323', 'long_title': 'Other bronchoscopy'}\n",
            "{'procedure_id': 'f7cb1850-033b-51fc-878c-f325dcc1217e', 'subject_id': 'a87c1099-8c87-5548-8fc0-56972a82cebf', 'hadm_id': 'ac3f7b4a-3199-5277-907e-d2b1b411a818', 'chartdate': '2131-02-27 00:00:00', 'icd_code': '3893', 'long_title': 'Venous catheterization, not elsewhere classified'}\n",
            "{'procedure_id': 'f1a77feb-5cfb-524c-9138-9bb5a37d1f24', 'subject_id': 'a87c1099-8c87-5548-8fc0-56972a82cebf', 'hadm_id': 'ac3f7b4a-3199-5277-907e-d2b1b411a818', 'chartdate': '2131-03-03 00:00:00', 'icd_code': '3891', 'long_title': 'Arterial catheterization'}\n",
            "{'procedure_id': '6a6fa006-5cf0-5dce-88a8-418194d6de8a', 'subject_id': 'a87c1099-8c87-5548-8fc0-56972a82cebf', 'hadm_id': 'ac3f7b4a-3199-5277-907e-d2b1b411a818', 'chartdate': '2131-02-27 00:00:00', 'icd_code': '9672', 'long_title': 'Continuous invasive mechanical ventilation for 96 consecutive hours or more'}\n"
          ]
        }
      ]
    },
    {
      "cell_type": "markdown",
      "source": [
        "## Query Condition\n",
        "\n",
        "* FHIR table: MimicCondition.ndjson.gz\n",
        "* MIMIC4 Demo table: diagnoses_icd + d_icd_diagnoses\n",
        "\n",
        "#### Columns\n",
        "1. subject_id: Condition.subject\n",
        "2. hadm_id: Condition.encounter\n",
        "3. icd_code: Condition.code.coding.code\n",
        "4. long_title: Condition.code.coding.display"
      ],
      "metadata": {
        "id": "q1BOjkdq4BH0"
      }
    },
    {
      "cell_type": "code",
      "source": [
        "def extract_condition(condition):\n",
        "    condition_info = {\n",
        "        'condition_id': condition.get('id'),\n",
        "        'subject_id': condition.get('subject', {}).get('reference', '').replace('Patient/', ''),\n",
        "        'hadm_id': condition.get('encounter', {}).get('reference', '').replace('Encounter/', ''),\n",
        "        'icd_code': None,\n",
        "        'long_title': None\n",
        "    }\n",
        "\n",
        "    # extract ICD code and description\n",
        "    coding = condition.get('code', {}).get('coding', [])\n",
        "    if coding:\n",
        "        condition_info['icd_code'] = coding[0].get('code')\n",
        "        condition_info['long_title'] = coding[0].get('display')\n",
        "\n",
        "    return condition_info\n",
        "\n",
        "def load_mimic_conditions(condition_file):\n",
        "    \"\"\"Extract condition info from all records\"\"\"\n",
        "    data = []\n",
        "    with gzip.open(condition_file, 'rt') as f:\n",
        "        for line in f:\n",
        "            if line.strip():\n",
        "                condition = json.loads(line.strip())\n",
        "                if condition:\n",
        "                    condition_info = extract_condition(condition)\n",
        "                    data.append(condition_info)\n",
        "    return data\n",
        "\n",
        "# Usage\n",
        "condition_file = MimicCondition_path\n",
        "conditions = load_mimic_conditions(condition_file)\n",
        "print(f\"Loaded {len(conditions)} condition records\")"
      ],
      "metadata": {
        "colab": {
          "base_uri": "https://localhost:8080/"
        },
        "id": "X-pjlma22KED",
        "outputId": "cc1adeaa-9038-44a0-8590-7a976fafa3e7"
      },
      "execution_count": 13,
      "outputs": [
        {
          "output_type": "stream",
          "name": "stdout",
          "text": [
            "Loaded 4506 condition records\n"
          ]
        }
      ]
    },
    {
      "cell_type": "code",
      "source": [
        "patient_conditions = [c for c in conditions if c[\"subject_id\"] == example_pid]\n",
        "print(f\"\\nFound {len(patient_conditions)} diagnoses for patient {example_pid}\")\n",
        "\n",
        "for cond in patient_conditions[:10]:\n",
        "    print(cond)"
      ],
      "metadata": {
        "colab": {
          "base_uri": "https://localhost:8080/"
        },
        "id": "y66y6PdD5kc2",
        "outputId": "fa828108-83f0-4f47-8056-306fc346cc77"
      },
      "execution_count": 14,
      "outputs": [
        {
          "output_type": "stream",
          "name": "stdout",
          "text": [
            "\n",
            "Found 49 diagnoses for patient 24450f28-a039-57d8-95c9-d7ba5508ecd4\n",
            "{'condition_id': '352f13d2-d630-5509-808b-1d78b57edafb', 'subject_id': '24450f28-a039-57d8-95c9-d7ba5508ecd4', 'hadm_id': '0a83714b-0c0e-5761-b9ea-3ff6d5fd5c8b', 'icd_code': 'I272', 'long_title': 'Other secondary pulmonary hypertension'}\n",
            "{'condition_id': '3a2556f5-584e-55ba-8f1f-ce8096d2194d', 'subject_id': '24450f28-a039-57d8-95c9-d7ba5508ecd4', 'hadm_id': '0a83714b-0c0e-5761-b9ea-3ff6d5fd5c8b', 'icd_code': 'F1210', 'long_title': 'Cannabis abuse, uncomplicated'}\n",
            "{'condition_id': '52399795-15ef-57a5-875c-49a791524933', 'subject_id': '24450f28-a039-57d8-95c9-d7ba5508ecd4', 'hadm_id': '0071a339-74cd-596a-9083-771d41d6d118', 'icd_code': 'J9600', 'long_title': 'Acute respiratory failure, unspecified whether with hypoxia or hypercapnia'}\n",
            "{'condition_id': 'c2cb284b-3a9e-5a3b-a9d4-559e7c8dc59b', 'subject_id': '24450f28-a039-57d8-95c9-d7ba5508ecd4', 'hadm_id': '0071a339-74cd-596a-9083-771d41d6d118', 'icd_code': 'S240XXA', 'long_title': 'Concussion and edema of thoracic spinal cord, initial encounter'}\n",
            "{'condition_id': '4cdb1d6f-872e-5dca-98f5-1709ebb4874e', 'subject_id': '24450f28-a039-57d8-95c9-d7ba5508ecd4', 'hadm_id': '0071a339-74cd-596a-9083-771d41d6d118', 'icd_code': 'F329', 'long_title': 'Major depressive disorder, single episode, unspecified'}\n",
            "{'condition_id': '5aae5825-e37a-5189-b62e-a48251021d4c', 'subject_id': '24450f28-a039-57d8-95c9-d7ba5508ecd4', 'hadm_id': '0071a339-74cd-596a-9083-771d41d6d118', 'icd_code': 'E669', 'long_title': 'Obesity, unspecified'}\n",
            "{'condition_id': '057562d8-d405-523c-ac03-510f22c85998', 'subject_id': '24450f28-a039-57d8-95c9-d7ba5508ecd4', 'hadm_id': '0071a339-74cd-596a-9083-771d41d6d118', 'icd_code': 'S12600A', 'long_title': 'Unspecified displaced fracture of seventh cervical vertebra, initial encounter for closed fracture'}\n",
            "{'condition_id': 'd8e8170e-f870-59e6-b0ab-5f472f646c59', 'subject_id': '24450f28-a039-57d8-95c9-d7ba5508ecd4', 'hadm_id': '0071a339-74cd-596a-9083-771d41d6d118', 'icd_code': 'F05', 'long_title': 'Delirium due to known physiological condition'}\n",
            "{'condition_id': 'cca31808-ff60-5676-aacc-70a891d11b50', 'subject_id': '24450f28-a039-57d8-95c9-d7ba5508ecd4', 'hadm_id': '0071a339-74cd-596a-9083-771d41d6d118', 'icd_code': 'S8012XA', 'long_title': 'Contusion of left lower leg, initial encounter'}\n",
            "{'condition_id': 'e09799a1-2c8d-5560-aecb-d741fb69be8e', 'subject_id': '24450f28-a039-57d8-95c9-d7ba5508ecd4', 'hadm_id': '0071a339-74cd-596a-9083-771d41d6d118', 'icd_code': 'S066X0A', 'long_title': 'Traumatic subarachnoid hemorrhage without loss of consciousness, initial encounter'}\n"
          ]
        }
      ]
    },
    {
      "cell_type": "markdown",
      "source": [
        "## Query MedicationAdministration\n",
        "* FHIR table: MimicMedicationAdministration.ndjson.gz\n",
        "* MIMIC4 Demo table: emar, emar_details\n",
        "* [Link](https://mimic.mit.edu/fhir/mimic-fhir-mappings.html#medicationadministration) to mapping directory\n",
        "\n",
        "#### Columns\n",
        "1. subject_id: MedicationAdministration.subject\n",
        "2. hadm_id: MedicationAdministration.context\n",
        "3. emar_id: MedicationAdministration.id\n",
        "4. medication: MedicationAdministration.medicationCodeableConcept\n",
        "5. event_txt: MedicationAdministration.route, this one is about the administration. Most frequently event_txt is ‘Administered’, but other possible values are ‘Applied’, ‘Confirmed’, ‘Delayed’, ‘Not Given’, and so on. (from emar_detail)\n",
        "6. route: MedicationAdministration.route (from emar_detail)\n",
        "\n"
      ],
      "metadata": {
        "id": "iLvLziT7m1pJ"
      }
    },
    {
      "cell_type": "code",
      "source": [
        "def extract_medication(medication):\n",
        "    medication_info = {\n",
        "        'emar_id': medication.get('id'),\n",
        "        'subject_id': medication.get('subject', {}).get('reference', '').replace('Patient/', ''),\n",
        "        'hospitalization_id': medication.get('context', {}).get('reference', '').replace('Encounter/', ''),\n",
        "        'medication': None,\n",
        "        'status': medication.get('status'),\n",
        "        # 'charttime': medication.get('effectiveDateTime')\n",
        "        'charttime': None\n",
        "    }\n",
        "\n",
        "    eastern = pytz.timezone('US/Eastern')\n",
        "\n",
        "    charttime_str = medication.get('effectiveDateTime')\n",
        "    if charttime_str:\n",
        "        dt = datetime.fromisoformat(charttime_str)\n",
        "        medication_info['charttime'] = dt.astimezone(eastern).strftime('%Y-%m-%d %H:%M:%S')\n",
        "\n",
        "    # extract medication code from medicationCodeableConcept\n",
        "    med_codeable = medication.get('medicationCodeableConcept', {}).get('coding', [])\n",
        "    if med_codeable:\n",
        "        medication_info['medication'] = med_codeable[0].get('code')\n",
        "\n",
        "    return medication_info\n",
        "\n",
        "def load_mimic_medications(medication_file):\n",
        "    \"\"\"Extract medication info from all records\"\"\"\n",
        "    data = []\n",
        "    with gzip.open(medication_file, 'rt') as f:\n",
        "        for line in f:\n",
        "            if line.strip():\n",
        "                medication = json.loads(line.strip())\n",
        "                if medication:\n",
        "                    med_info = extract_medication(medication)\n",
        "                    data.append(med_info)\n",
        "    return data\n",
        "\n",
        "# Usage\n",
        "medication_file = MimicMedicationAdministration_path\n",
        "medications = load_mimic_medications(medication_file)\n",
        "print(f\"Loaded {len(medications)} medication records\")"
      ],
      "metadata": {
        "colab": {
          "base_uri": "https://localhost:8080/"
        },
        "id": "Eje2DLVMp1o7",
        "outputId": "c8d2c4d6-3384-40ff-9243-57cba683c550"
      },
      "execution_count": 15,
      "outputs": [
        {
          "output_type": "stream",
          "name": "stdout",
          "text": [
            "Loaded 36131 medication records\n"
          ]
        }
      ]
    },
    {
      "cell_type": "code",
      "source": [
        "# Retrive medication record based on a patient_id\n",
        "patient_meds = [m for m in medications if m[\"subject_id\"] == example_pid]\n",
        "\n",
        "\n",
        "print(f\"Found {len(patient_meds)} medication administrations for patient {example_pid}\")\n",
        "\n",
        "for med in patient_meds[:10]:\n",
        "    print(med)"
      ],
      "metadata": {
        "colab": {
          "base_uri": "https://localhost:8080/"
        },
        "id": "K6GYYmPHRL5K",
        "outputId": "2d32889c-6b9a-4a1c-8e66-ccffbbf2dd22"
      },
      "execution_count": 16,
      "outputs": [
        {
          "output_type": "stream",
          "name": "stdout",
          "text": [
            "Found 888 medication administrations for patient 24450f28-a039-57d8-95c9-d7ba5508ecd4\n",
            "{'emar_id': 'abd7d371-9ce9-529a-861f-fb233f8be6b0', 'subject_id': '24450f28-a039-57d8-95c9-d7ba5508ecd4', 'hospitalization_id': '0a83714b-0c0e-5761-b9ea-3ff6d5fd5c8b', 'medication': 'NACLFLUSH', 'status': 'completed', 'charttime': '2148-03-12 12:23:00'}\n",
            "{'emar_id': 'd290a850-63f2-5ff7-bd8f-78f5e7a0e85d', 'subject_id': '24450f28-a039-57d8-95c9-d7ba5508ecd4', 'hospitalization_id': '0071a339-74cd-596a-9083-771d41d6d118', 'medication': 'FURO20I', 'status': 'completed', 'charttime': '2148-01-06 18:27:00'}\n",
            "{'emar_id': 'dd06b24a-2098-5d25-a608-bf220eaa71ed', 'subject_id': '24450f28-a039-57d8-95c9-d7ba5508ecd4', 'hospitalization_id': '0071a339-74cd-596a-9083-771d41d6d118', 'medication': 'ERY25010NS', 'status': 'completed', 'charttime': '2148-01-05 06:28:00'}\n",
            "{'emar_id': '2bf052ea-cb34-525c-840d-b193b69444eb', 'subject_id': '24450f28-a039-57d8-95c9-d7ba5508ecd4', 'hospitalization_id': '7e8c1a0f-0a7b-5b91-a351-0a10939deace', 'medication': 'Diazepam', 'status': 'completed', 'charttime': '2148-01-28 00:33:00'}\n",
            "{'emar_id': 'd21e4ba3-73fa-505d-8d5a-c7d0b9c368e5', 'subject_id': '24450f28-a039-57d8-95c9-d7ba5508ecd4', 'hospitalization_id': '0071a339-74cd-596a-9083-771d41d6d118', 'medication': 'LeVETiracetam', 'status': 'completed', 'charttime': '2148-01-05 21:00:00'}\n",
            "{'emar_id': '1c6f1af2-2077-59e3-ab0c-b368d8a08731', 'subject_id': '24450f28-a039-57d8-95c9-d7ba5508ecd4', 'hospitalization_id': '0071a339-74cd-596a-9083-771d41d6d118', 'medication': 'DEXM400I', 'status': 'completed', 'charttime': '2148-01-02 17:42:00'}\n",
            "{'emar_id': 'ce6b12ed-524d-590e-8d89-56e3b12edfe0', 'subject_id': '24450f28-a039-57d8-95c9-d7ba5508ecd4', 'hospitalization_id': '0071a339-74cd-596a-9083-771d41d6d118', 'medication': 'SENN5L', 'status': 'completed', 'charttime': '2148-01-01 20:08:00'}\n",
            "{'emar_id': 'f3b0fb46-3677-5afb-b890-dff4e0f405ff', 'subject_id': '24450f28-a039-57d8-95c9-d7ba5508ecd4', 'hospitalization_id': '0071a339-74cd-596a-9083-771d41d6d118', 'medication': 'ACET650L', 'status': 'completed', 'charttime': '2148-01-11 17:28:00'}\n",
            "{'emar_id': '8842427d-7ee8-56c3-9682-3196f254720a', 'subject_id': '24450f28-a039-57d8-95c9-d7ba5508ecd4', 'hospitalization_id': '0071a339-74cd-596a-9083-771d41d6d118', 'medication': 'CHLO15L', 'status': 'completed', 'charttime': '2148-01-02 19:58:00'}\n",
            "{'emar_id': 'f4c9af5c-6c75-5738-b871-d8049bbe629b', 'subject_id': '24450f28-a039-57d8-95c9-d7ba5508ecd4', 'hospitalization_id': '0071a339-74cd-596a-9083-771d41d6d118', 'medication': 'LRLV', 'status': 'completed', 'charttime': '2147-12-30 18:14:00'}\n"
          ]
        }
      ]
    },
    {
      "cell_type": "code",
      "source": [
        "def get_top_medications(patient_meds, years=None):\n",
        "    \"\"\"Get frequency table of medications for a patient\"\"\"\n",
        "    filtered_meds = patient_meds\n",
        "\n",
        "    if years:\n",
        "        # find the most recent charttime because we have de-identified time\n",
        "        valid_times = [m['charttime'] for m in patient_meds if m['charttime']]\n",
        "        if valid_times:\n",
        "            max_time = max(datetime.strptime(t, '%Y-%m-%d %H:%M:%S') for t in valid_times)\n",
        "            cutoff_date = max_time - timedelta(days=years*365)\n",
        "\n",
        "            filtered_meds = [\n",
        "                m for m in patient_meds\n",
        "                if m['charttime'] and datetime.strptime(m['charttime'], '%Y-%m-%d %H:%M:%S') >= cutoff_date\n",
        "            ]\n",
        "\n",
        "    med_counts = Counter(m['medication'] for m in filtered_meds if m['medication'])\n",
        "    return med_counts.most_common(5)\n",
        "\n",
        "\n",
        "print(\"\\n--- Top 5 Medications (All Time) ---\")\n",
        "top_meds = get_top_medications(patient_meds)\n",
        "for med, count in top_meds:\n",
        "    print(f\"{med}: {count} administrations\")\n",
        "\n",
        "print(\"\\n--- Top 5 Medications (Past 2 Years from Most Recent) ---\")\n",
        "top_meds_2y = get_top_medications(patient_meds, years=2)\n",
        "for med, count in top_meds_2y:\n",
        "    print(f\"{med}: {count} administrations\")"
      ],
      "metadata": {
        "colab": {
          "base_uri": "https://localhost:8080/"
        },
        "id": "k5TNNbZ-scI1",
        "outputId": "1c084eaa-bdc2-4477-8f58-902e1b65cf2f"
      },
      "execution_count": 17,
      "outputs": [
        {
          "output_type": "stream",
          "name": "stdout",
          "text": [
            "\n",
            "--- Top 5 Medications (All Time) ---\n",
            "OXYCO5L: 62 administrations\n",
            "HYDR1SYR: 58 administrations\n",
            "NACLFLUSH: 48 administrations\n",
            "HYDR2: 43 administrations\n",
            "HEPA5I: 42 administrations\n",
            "\n",
            "--- Top 5 Medications (Past 2 Years from Most Recent) ---\n",
            "OXYCO5L: 62 administrations\n",
            "HYDR1SYR: 58 administrations\n",
            "NACLFLUSH: 48 administrations\n",
            "HYDR2: 43 administrations\n",
            "HEPA5I: 42 administrations\n"
          ]
        }
      ]
    },
    {
      "cell_type": "markdown",
      "source": [
        "## Get one patient information\n",
        "I hope this would be sufficient to be prompted to LLM for analyzing the patient history, at least enough for the design review purpose.\n",
        "\n",
        "I'll definitely look into more about what physicians actually want and what they look at in EHR in real life.\n",
        "\n",
        "1. patient_info [patients]\n",
        "2. admission [patient_encounters]\n",
        "3. lab results [labevents]\n",
        "4. procedures [procedures]\n",
        "5. diagnosis [conditions]\n",
        "6. medication [patient_meds]"
      ],
      "metadata": {
        "id": "OZGz6j03K_98"
      }
    },
    {
      "cell_type": "code",
      "source": [
        "example_pid = '24450f28-a039-57d8-95c9-d7ba5508ecd4'\n",
        "\n",
        "print(\"=\" * 100)\n",
        "print(f\"PATIENT SUMMARY REPORT\")\n",
        "print(f\"Patient ID: {example_pid}\")\n",
        "print(\"=\" * 80)\n",
        "\n",
        "print(\"\\n1. PATIENT DEMOGRAPHICS\")\n",
        "print(\"-\" * 80)\n",
        "patient_info = next((p for p in patients if p[\"id\"] == example_pid), None)\n",
        "if patient_info:\n",
        "    for key, value in patient_info.items():\n",
        "        print(f\"{key}: {value}\")\n",
        "else:\n",
        "    print(\"Patient not found\")\n",
        "\n",
        "print(\"\\n2. ADMISSIONS\")\n",
        "print(\"-\" * 80)\n",
        "patient_encounters = [e for e in encounters if e[\"subject_id\"] == example_pid]\n",
        "print(f\"Total admissions: {len(patient_encounters)}\\n\")\n",
        "for i, enc in enumerate(patient_encounters, 1):\n",
        "    print(f\"Admission {i}:\")\n",
        "    print(f\"  hadm_id: {enc['hadm_id']}\")\n",
        "    print(f\"  admittime: {enc['admittime']}\")\n",
        "    print(f\"  dischtime: {enc['dischtime']}\")\n",
        "    print(f\"  class: {enc['class']}, priority: {enc['priority']}\")\n",
        "\n",
        "print(\"\\n3. LAB RESULTS (Past 2 Years - Top 10)\")\n",
        "print(\"-\" * 80)\n",
        "patient_labs = [l for l in labevents if l[\"subject_id\"] == example_pid]\n",
        "print(f\"Total lab events: {len(patient_labs)}\")\n",
        "\n",
        "valid_labs = [l for l in patient_labs if l['charttime']]\n",
        "if valid_labs:\n",
        "    max_time = max(datetime.strptime(l['charttime'], '%Y-%m-%d %H:%M:%S') for l in valid_labs)\n",
        "    cd = max_time - timedelta(days=2 * 365)\n",
        "    recent_labs = [l for l in valid_labs if datetime.strptime(l['charttime'], '%Y-%m-%d %H:%M:%S') >= cd]\n",
        "\n",
        "    lab_counts = Counter(l['label'] for l in recent_labs if l['label'])\n",
        "    total_recent = len(recent_labs)\n",
        "\n",
        "    print(f\"Lab events in past 2 years: {total_recent}\\n\")\n",
        "    print(\"Top 10 most frequent labs (with latest result) in past 2 years:\")\n",
        "    for i, (lab_name, count) in enumerate(lab_counts.most_common(10), 1):\n",
        "        pct = (count / total_recent * 100) if total_recent > 0 else 0\n",
        "        lab_results = [l for l in recent_labs if l['label'] == lab_name]\n",
        "        latest = max(lab_results, key=lambda x: x['charttime'])\n",
        "        unit = latest['valueuom'] if latest['valueuom'] else ''\n",
        "        value_str = f\"{latest['valuenum']} {unit}\".strip()\n",
        "        print(f\"{i}. {lab_name}: {count} times ({pct:.1f}%) - Latest: {value_str} [{latest['charttime']}]\")\n",
        "\n",
        "    print(\"\\nMost recent 10 lab results:\")\n",
        "    sorted_labs = sorted(recent_labs, key=lambda x: x['charttime'], reverse=True)\n",
        "    for i, lab in enumerate(sorted_labs[:10], 1):\n",
        "        unit = lab['valueuom'] if lab['valueuom'] else ''\n",
        "        value_str = f\"{lab['valuenum']} {unit}\".strip()\n",
        "        print(f\"{i}. [{lab['charttime']}] {lab['label']}: {value_str}\")\n",
        "\n",
        "print(\"\\n4. PROCEDURES\")\n",
        "print(\"-\" * 80)\n",
        "patient_procedures = [p for p in procedures if p[\"subject_id\"] == example_pid]\n",
        "print(f\"Total procedures: {len(patient_procedures)}\\n\")\n",
        "for i, proc in enumerate(patient_procedures, 1):\n",
        "    print(f\"Procedure {i}:\")\n",
        "    print(f\"  Code: {proc['icd_code']}\")\n",
        "    print(f\"  Description: {proc['long_title']}\")\n",
        "    print(f\"  Date: {proc['chartdate']}\")\n",
        "\n",
        "print(\"\\n5. DIAGNOSES (Past 2 Years - Top 10)\")\n",
        "print(\"-\" * 80)\n",
        "patient_conditions = [c for c in conditions if c[\"subject_id\"] == example_pid]\n",
        "print(f\"Total diagnoses: {len(patient_conditions)}\\n\")\n",
        "\n",
        "recent_hadm_ids = [e['hadm_id'] for e in patient_encounters]\n",
        "recent_conditions = [c for c in patient_conditions if c['hadm_id'] in recent_hadm_ids]\n",
        "\n",
        "condition_counts = Counter(c['long_title'] for c in recent_conditions if c['long_title'])\n",
        "total_conditions = len(recent_conditions)\n",
        "\n",
        "print(f\"Diagnoses (all encounters): {total_conditions}\\n\")\n",
        "for i, (diagnosis, count) in enumerate(condition_counts.most_common(10), 1):\n",
        "    pct = (count / total_conditions * 100) if total_conditions > 0 else 0\n",
        "    print(f\"{i}. {diagnosis}: {count} times ({pct:.1f}%)\")\n",
        "\n",
        "print(\"\\n6. MEDICATIONS (Past 2 Years - Top 10)\")\n",
        "print(\"-\" * 80)\n",
        "patient_meds = [m for m in medications if m[\"subject_id\"] == example_pid]\n",
        "print(f\"Total medication administrations: {len(patient_meds)}\")\n",
        "\n",
        "valid_meds = [m for m in patient_meds if m['charttime']]\n",
        "if valid_meds:\n",
        "    max_time = max(datetime.strptime(m['charttime'], '%Y-%m-%d %H:%M:%S') for m in valid_meds)\n",
        "    cutoff_date = max_time - timedelta(days=2 * 365)\n",
        "    recent_meds = [m for m in valid_meds if datetime.strptime(m['charttime'], '%Y-%m-%d %H:%M:%S') >= cutoff_date]\n",
        "\n",
        "    med_counts = Counter(m['medication'] for m in recent_meds if m['medication'])\n",
        "    total_recent = len(recent_meds)\n",
        "\n",
        "    print(f\"Medication administrations in past 2 years: {total_recent}\\n\")\n",
        "    for i, (med, count) in enumerate(med_counts.most_common(10), 1):\n",
        "        pct = (count / total_recent * 100) if total_recent > 0 else 0\n",
        "        print(f\"{i}. {med}: {count} administrations ({pct:.1f}%)\")\n",
        "\n",
        "print(\"\\n\" + \"=\" * 100)\n",
        "print(\"END OF REPORT\")\n",
        "print(\"=\" * 100)"
      ],
      "metadata": {
        "colab": {
          "base_uri": "https://localhost:8080/"
        },
        "id": "__vD00AIGOfs",
        "outputId": "91635e26-05c7-404a-9c8c-2f4903148ddc"
      },
      "execution_count": 18,
      "outputs": [
        {
          "output_type": "stream",
          "name": "stdout",
          "text": [
            "====================================================================================================\n",
            "PATIENT SUMMARY REPORT\n",
            "Patient ID: 24450f28-a039-57d8-95c9-d7ba5508ecd4\n",
            "================================================================================\n",
            "\n",
            "1. PATIENT DEMOGRAPHICS\n",
            "--------------------------------------------------------------------------------\n",
            "id: 24450f28-a039-57d8-95c9-d7ba5508ecd4\n",
            "gender: female\n",
            "birth_date: 2119-12-30\n",
            "marital_status: D\n",
            "race: White\n",
            "ethnicity: Not Hispanic or Latino\n",
            "\n",
            "2. ADMISSIONS\n",
            "--------------------------------------------------------------------------------\n",
            "Total admissions: 3\n",
            "\n",
            "Admission 1:\n",
            "  hadm_id: 0a83714b-0c0e-5761-b9ea-3ff6d5fd5c8b\n",
            "  admittime: 2148-03-07 23:30:00\n",
            "  dischtime: 2148-03-13 14:50:00\n",
            "  class: OBSENC, priority: R\n",
            "Admission 2:\n",
            "  hadm_id: 0071a339-74cd-596a-9083-771d41d6d118\n",
            "  admittime: 2147-12-30 08:40:00\n",
            "  dischtime: 2148-01-11 17:55:00\n",
            "  class: EMER, priority: EM\n",
            "Admission 3:\n",
            "  hadm_id: 7e8c1a0f-0a7b-5b91-a351-0a10939deace\n",
            "  admittime: 2148-01-25 22:58:00\n",
            "  dischtime: 2148-01-30 11:23:00\n",
            "  class: OBSENC, priority: R\n",
            "\n",
            "3. LAB RESULTS (Past 2 Years - Top 10)\n",
            "--------------------------------------------------------------------------------\n",
            "Total lab events: 693\n",
            "Lab events in past 2 years: 693\n",
            "\n",
            "Top 10 most frequent labs (with latest result) in past 2 years:\n",
            "1. Glucose: 27 times (3.9%) - Latest: 88 mg/dL [2148-04-09 11:00:00]\n",
            "2. Hemoglobin: 22 times (3.2%) - Latest: 11.3 g/dL [2148-04-09 11:00:00]\n",
            "3. RDW: 21 times (3.0%) - Latest: 14.9 % [2148-04-09 11:00:00]\n",
            "4. White Blood Cells: 21 times (3.0%) - Latest: 9.9 K/uL [2148-04-09 11:00:00]\n",
            "5. Platelet Count: 21 times (3.0%) - Latest: 374 K/uL [2148-04-09 11:00:00]\n",
            "6. Hematocrit: 21 times (3.0%) - Latest: 38.3 % [2148-04-09 11:00:00]\n",
            "7. MCH: 21 times (3.0%) - Latest: 24 pg [2148-04-09 11:00:00]\n",
            "8. MCHC: 21 times (3.0%) - Latest: 29.5 g/dL [2148-04-09 11:00:00]\n",
            "9. MCV: 21 times (3.0%) - Latest: 81 fL [2148-04-09 11:00:00]\n",
            "10. Red Blood Cells: 21 times (3.0%) - Latest: 4.71 m/uL [2148-04-09 11:00:00]\n",
            "\n",
            "Most recent 10 lab results:\n",
            "1. [2148-04-09 11:00:00] I: 0\n",
            "2. [2148-04-09 11:00:00] H: 119\n",
            "3. [2148-04-09 11:00:00] RDW: 14.9 %\n",
            "4. [2148-04-09 11:00:00] White Blood Cells: 9.9 K/uL\n",
            "5. [2148-04-09 11:00:00] Eosinophils: 2.1 %\n",
            "6. [2148-04-09 11:00:00] Absolute Neutrophil Count: 6.73 K/uL\n",
            "7. [2148-04-09 11:00:00] Basophils: 0.7 %\n",
            "8. [2148-04-09 11:00:00] Absolute Eosinophil Count: 0.21 K/uL\n",
            "9. [2148-04-09 11:00:00] Platelet Count: 374 K/uL\n",
            "10. [2148-04-09 11:00:00] Hematocrit: 38.3 %\n",
            "\n",
            "4. PROCEDURES\n",
            "--------------------------------------------------------------------------------\n",
            "Total procedures: 12\n",
            "\n",
            "Procedure 1:\n",
            "  Code: 0B988ZX\n",
            "  Description: Drainage of Left Upper Lobe Bronchus, Via Natural or Artificial Opening Endoscopic, Diagnostic\n",
            "  Date: 2148-01-04 00:00:00\n",
            "Procedure 2:\n",
            "  Code: 0W9930Z\n",
            "  Description: Drainage of Right Pleural Cavity with Drainage Device, Percutaneous Approach\n",
            "  Date: 2148-03-09 00:00:00\n",
            "Procedure 3:\n",
            "  Code: 0B9B8ZX\n",
            "  Description: Drainage of Left Lower Lobe Bronchus, Via Natural or Artificial Opening Endoscopic, Diagnostic\n",
            "  Date: 2148-01-04 00:00:00\n",
            "Procedure 4:\n",
            "  Code: 02H633Z\n",
            "  Description: Insertion of Infusion Device into Right Atrium, Percutaneous Approach\n",
            "  Date: 2148-01-06 00:00:00\n",
            "Procedure 5:\n",
            "  Code: 3E0G76Z\n",
            "  Description: Introduction of Nutritional Substance into Upper GI, Via Natural or Artificial Opening\n",
            "  Date: 2148-01-01 00:00:00\n",
            "Procedure 6:\n",
            "  Code: 0RB30ZZ\n",
            "  Description: Excision of Cervical Vertebral Disc, Open Approach\n",
            "  Date: 2147-12-31 00:00:00\n",
            "Procedure 7:\n",
            "  Code: 0B948ZX\n",
            "  Description: Drainage of Right Upper Lobe Bronchus, Via Natural or Artificial Opening Endoscopic, Diagnostic\n",
            "  Date: 2148-01-04 00:00:00\n",
            "Procedure 8:\n",
            "  Code: 0RG1071\n",
            "  Description: Fusion of Cervical Vertebral Joint with Autologous Tissue Substitute, Posterior Approach, Posterior Column, Open Approach\n",
            "  Date: 2148-01-02 00:00:00\n",
            "Procedure 9:\n",
            "  Code: 0RG10A0\n",
            "  Description: Fusion of Cervical Vertebral Joint with Interbody Fusion Device, Anterior Approach, Anterior Column, Open Approach\n",
            "  Date: 2147-12-31 00:00:00\n",
            "Procedure 10:\n",
            "  Code: 0BJ08ZZ\n",
            "  Description: Inspection of Tracheobronchial Tree, Via Natural or Artificial Opening Endoscopic\n",
            "  Date: 2148-01-01 00:00:00\n",
            "Procedure 11:\n",
            "  Code: 5A1955Z\n",
            "  Description: Respiratory Ventilation, Greater than 96 Consecutive Hours\n",
            "  Date: 2147-12-30 00:00:00\n",
            "Procedure 12:\n",
            "  Code: 0RG8071\n",
            "  Description: Fusion of 8 or more Thoracic Vertebral Joints with Autologous Tissue Substitute, Posterior Approach, Posterior Column, Open Approach\n",
            "  Date: 2148-01-26 00:00:00\n",
            "\n",
            "5. DIAGNOSES (Past 2 Years - Top 10)\n",
            "--------------------------------------------------------------------------------\n",
            "Total diagnoses: 49\n",
            "\n",
            "Diagnoses (all encounters): 49\n",
            "\n",
            "1. Major depressive disorder, single episode, unspecified: 2 times (4.1%)\n",
            "2. Obesity, unspecified: 2 times (4.1%)\n",
            "3. Unspecified fracture of T7-T8 vertebra, initial encounter for closed fracture: 2 times (4.1%)\n",
            "4. Unspecified asthma, uncomplicated: 2 times (4.1%)\n",
            "5. Arthrodesis status: 2 times (4.1%)\n",
            "6. Migraine, unspecified, not intractable, without status migrainosus: 2 times (4.1%)\n",
            "7. Unspecified fracture of T5-T6 vertebra, initial encounter for closed fracture: 2 times (4.1%)\n",
            "8. Unspecified place or not applicable: 2 times (4.1%)\n",
            "9. Other secondary pulmonary hypertension: 1 times (2.0%)\n",
            "10. Cannabis abuse, uncomplicated: 1 times (2.0%)\n",
            "\n",
            "6. MEDICATIONS (Past 2 Years - Top 10)\n",
            "--------------------------------------------------------------------------------\n",
            "Total medication administrations: 888\n",
            "Medication administrations in past 2 years: 888\n",
            "\n",
            "1. OXYCO5L: 62 administrations (7.0%)\n",
            "2. HYDR1SYR: 58 administrations (6.5%)\n",
            "3. NACLFLUSH: 48 administrations (5.4%)\n",
            "4. HYDR2: 43 administrations (4.8%)\n",
            "5. HEPA5I: 42 administrations (4.7%)\n",
            "6. OXYC5: 39 administrations (4.4%)\n",
            "7. PROP100IG: 38 administrations (4.3%)\n",
            "8. FENT2.550: 33 administrations (3.7%)\n",
            "9. ACET650L: 26 administrations (2.9%)\n",
            "10. APAP500: 25 administrations (2.8%)\n",
            "\n",
            "====================================================================================================\n",
            "END OF REPORT\n",
            "====================================================================================================\n"
          ]
        }
      ]
    },
    {
      "cell_type": "code",
      "source": [],
      "metadata": {
        "id": "gEl7lSRaMrvj"
      },
      "execution_count": 18,
      "outputs": []
    }
  ]
}